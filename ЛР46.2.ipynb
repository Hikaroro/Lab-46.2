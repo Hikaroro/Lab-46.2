{
 "cells": [
  {
   "cell_type": "markdown",
   "id": "b2efb637-a9a0-419a-b516-98e0f735da61",
   "metadata": {
    "tags": []
   },
   "source": [
    "# Лабораторная работа 46.2"
   ]
  },
  {
   "cell_type": "markdown",
   "id": "66a5ef9f-e984-47c8-bdf3-2121ddfbff61",
   "metadata": {},
   "source": [
    "### Цель лабораторной работы"
   ]
  },
  {
   "cell_type": "markdown",
   "id": "0f280f40-0619-4a3c-b49f-d75e52c0817c",
   "metadata": {},
   "source": [
    "Экспериментальное изучение явления фотоэффекта."
   ]
  },
  {
   "cell_type": "markdown",
   "id": "42bfa6d3-ad09-42a7-a414-be5a6be3d883",
   "metadata": {},
   "source": [
    "### Экспериментальное оборудование"
   ]
  },
  {
   "cell_type": "markdown",
   "id": "5a9b55f4-6a3d-43e6-954f-7fee85eda040",
   "metadata": {},
   "source": [
    "Экспериментальная установка, состоящая из:\n",
    "1. Объекта исследования, выполненного в виде сборного корпуса, в котором установлен осветитель с источником питания, с источником питания, блок интерференционных светофильтров 1...4 и устройство регулировки освещенности.\n",
    "2. Устройства измерительного, в котором применена однокристальная микро - ЭВМ с соответствующими дополнительными устройствами, позволяющими производить измерение тока фотоэлемента, установленного в объекте исследования, устанавливать и измерять питающие напряжения на фотоэлементе, а также осуществлять функции управления установкой."
   ]
  },
  {
   "cell_type": "markdown",
   "id": "bcac914a-f01f-4432-a456-e1f805eda71d",
   "metadata": {},
   "source": [
    "### Конспект в формате ответов на контрольные вопросы "
   ]
  },
  {
   "cell_type": "markdown",
   "id": "b4df4050-d6b1-4f43-8fc7-42e8aa702d4d",
   "metadata": {},
   "source": [
    "#### 1. В чем заключается явление фотоэффекта? (внешний и внутренний)? "
   ]
  },
  {
   "cell_type": "markdown",
   "id": "57d6b4ae-d0fd-4a63-9274-95dfd2a0eed0",
   "metadata": {},
   "source": [
    "Внешний фотоэффект - явление вырывания электронов с поверхности твёрдых или жидких веществ под действием электромагнитного излучения.\n",
    "\n",
    "К внутреннему фотоэффекту относятся: изменение электропроводности (фотопроводимость), возникновение электродвижущей силы, изменение диэлектрической проницаемости."
   ]
  },
  {
   "cell_type": "markdown",
   "id": "38736034-4976-4721-a969-19bc17724393",
   "metadata": {},
   "source": [
    "#### 2. Как объясняется явление фотоэффекта с квантовой точки зрения?"
   ]
  },
  {
   "cell_type": "markdown",
   "id": "276cb2d0-e322-4e3f-8865-e9ad358848d6",
   "metadata": {},
   "source": [
    "Фотоны, падая на поверхность металла, проникают на очень короткое расстояние в металл и поглощаются нацело отдельными его электронами проводимости. Электроны, поглотившие фотоны, сразу же увеличивают свою энергию до значения, достаточного, чтобы преодолеть потенциальный барьер вблизи поверхности металла, и вылетают наружу. \n",
    "\n",
    "Энергия фотона после поглощения его, с одной стороны, расходуется на преодоление потенциального барьера (эта часть энергии называется работой выхода электрона из металла), а с другой стороны, частично сохраняется у электрона вне металла в виде кинетической энергии."
   ]
  },
  {
   "cell_type": "markdown",
   "id": "f6f6fe42-93b1-476f-9453-e11f234e98ba",
   "metadata": {},
   "source": [
    "#### 3. Что в фотоэффекте не смогла объяснить волновая теория света?"
   ]
  },
  {
   "cell_type": "markdown",
   "id": "afbea2b3-10cd-47ab-a0c9-766cc677f0c1",
   "metadata": {},
   "source": [
    "Волновая теория не смогла объяснить следующее:\n",
    "1. Безынерционность фотоэффекта. Она заключается в том, что испускание фотоэлектронов начинается сразу же, как только на катод попадает свет с частотой $\\nu > \\nu_{кр}$.\n",
    "2. Для данного вещества максимальная кинетическая энергия фотоэлектронов прямо пропорциональна частоте падающего света и не зависит от его интенсивности.\n",
    "3. Для каждого вещества существует красная граница внешнего фотоэффекта."
   ]
  },
  {
   "cell_type": "markdown",
   "id": "e4044d70-97c1-43e3-8923-011c61cc592a",
   "metadata": {},
   "source": [
    "#### 4. Что такое фотоны и каковы их свойства? "
   ]
  },
  {
   "cell_type": "markdown",
   "id": "ef3750b8-5d8e-44cc-9da9-a142d2cddd2b",
   "metadata": {},
   "source": [
    "Кванты электромагнитного излучения называются фотонами.\n",
    "Фотоны обладают следующими свойствами:\n",
    "1. Заряд фотона равен нулю.\n",
    "2. Скорость фотона равна скорости света в вакууме\n",
    "3. Масса покоя фотона равна нулю.\n",
    "4. Энергия фотона пропорциональна частоте электромагнитного излучения, квантом которого он является: $E=hv={hc \\over \\lambda}$ \n",
    "5. Масса движущегося фотона определяется формулой: $m={E \\over c^2}$ ."
   ]
  },
  {
   "cell_type": "markdown",
   "id": "205ac397-805d-41e2-bcfd-adb8eb7c4ba0",
   "metadata": {},
   "source": [
    "#### 5. Охарактеризуйте физическое содержание уравнения Эйнштейна для фотоэффекта. "
   ]
  },
  {
   "cell_type": "markdown",
   "id": "8113ac47-4eee-41b5-9252-4274ca473927",
   "metadata": {},
   "source": [
    "Уравнение Эйнштейна: $h\\nu=A_{вых} + {mv^2 \\over 2}$ , где  $A_{вых}$- работа выхода электрона, $m$ и $v$  - его масса и скорость соответственно, $\\nu$ - частота излучения, $h$- постоянная Планка. Физическое содержание уравнения Эйнштейна для фотоэффекта заключается в том, что энергия падающего фотона расходуется на совершение электроном работы выхода из металла и на сообщение электрону кинетической энергии."
   ]
  },
  {
   "cell_type": "markdown",
   "id": "896c85f2-b948-4b0d-a0a8-388d3571cb17",
   "metadata": {},
   "source": [
    "#### 6. Перечислите основные закономерности внешнего фотоэффекта и объясните их с точки зрения квантовых представлений о свете."
   ]
  },
  {
   "cell_type": "markdown",
   "id": "f77de701-533d-4431-9f53-316c940b339a",
   "metadata": {},
   "source": [
    "1. При неизменном спектральном составе света, падающего на катод, фототок насыщения пропорционален световому потоку:\n",
    "\t\tПри малых интенсивностях света каждый электрон поглощает один фотон, поэтому число фотоэлектронов должно быть пропорционально числу падающих фотонов. Вместе с тем световой поток $\\Phi$ определяется количеством фотонов, падающих на поверхность за единицу времени. Следовательно, фототок насыщения должен быть пропорционален световому потоку.\n",
    "2. Для данного вещества максимальная кинетическая энергия фотоэлектронов прямо пропорциональна частоте падающего света и не зависит от его интенсивности:\n",
    "\t\t$E_{кин}= {mv^2 \\over 2}$\n",
    "\t\tИз уравнения Эйнштейна: $E_{кин}=h\\nu - A_{вых}$ . Из уравнения видно, что кинетическая энергия фотоэлектронов прямо пропорциональна частоте падающего света и не зависит от его интенсивности.\n",
    "3. Для каждого вещества существует красная граница внешнего фотоэффекта:\n",
    "\t\tТак как красная граница фотоэффекта – это минимальная частота $\\nu_{кр}$ падающего света, при которой начинается фотоэффект, то $h\\nu_{кр}$ − минимальная энергия фотона, передаваемая электрону и идущая на совершение работы выхода $A_{вых}$ электрона из вещества. Тогда $\\nu_{кр}={A_{вых} \\over h}$ или $\\lambda_{кр}={hc \\over A_{вых}}$ Если $h\\nu<A_{вых}$, то электроны не могут покинуть металл.\n",
    "4. Безынерционность фотоэффекта:\n",
    "\t\tОна объясняется тем, что передача энергии при столкновении фотона с электроном происходит почти мгновенно."
   ]
  },
  {
   "cell_type": "markdown",
   "id": "d131c925-f8c7-4637-bfc1-b48854d9bd38",
   "metadata": {},
   "source": [
    "#### 7. Что такое «красная граница» фотоэффекта? Почему ее наличие не могла объяснить волновая теория света?"
   ]
  },
  {
   "cell_type": "markdown",
   "id": "ee432583-670a-4cbd-9300-41e488969af7",
   "metadata": {},
   "source": [
    "Критическая частота, при которой пpекpащается фотоэффект, называется красной границей фотоэффекта. Так как, по волновой теории, энергия, передаваемая электронам, пропорциональна интенсивности света, то свет любой частоты, но достаточно большой интенсивности должен был бы вырывать электроны из металла. Иными словами, красной границы фотоэффекта не должно быть, следовательно возникает противоречие. "
   ]
  },
  {
   "cell_type": "markdown",
   "id": "e4341f37-8b2c-48bf-a4ef-7b080afc74cf",
   "metadata": {},
   "source": [
    "#### 8. Что такое задерживающее (запирающее) напряжение при фотоэффекте? Как и почему оно зависит от частоты света?"
   ]
  },
  {
   "cell_type": "markdown",
   "id": "804faf31-b87a-4cbf-9938-934430d850e9",
   "metadata": {},
   "source": [
    "Задерживающее (запирающее) напряжение - минимальное обратное напряжение между анодом и катодом, при котором фототок равен нулю.\n",
    "При установлении запирающего напряжения отрицательная работа внешнего поля над электронами равна кинетической энергии электрона при вылете из анода: $eU_{з}= {mv^2 \\over 2}$. Как видно из формулы, запирающее напряжение зависит только от кинетической энергии электронов, которая, в свою очередь, зависит от частоты света и работы выхода."
   ]
  },
  {
   "cell_type": "markdown",
   "id": "e152cd30-92f1-4ef0-9cb7-7e7cf2109812",
   "metadata": {},
   "source": [
    "#### 9. Что такое фототок насыщения? Как и почему он зависит от светового потока? "
   ]
  },
  {
   "cell_type": "markdown",
   "id": "5e2ff195-0aad-4c8e-9096-a3d8d26883d6",
   "metadata": {},
   "source": [
    "Фототок насыщения - максимальное значение тока $I_{нас}=ne$ , при котором все электроны, вылетающие с поверхности катода долетают до анода ($n$ – число электронов вышедших из металла в единицу времени). Фототок насыщения зависит от падающего на фотоэлемент светового потока, так как при его увеличении количество фотонов, падающих на металл, возрастает. Следовательно, возрастает и количество вышедших электронов. "
   ]
  },
  {
   "cell_type": "markdown",
   "id": "f00a3b32-b0c3-473e-a1ab-80bf3ac49cee",
   "metadata": {},
   "source": [
    "#### 10. Что такое вольтамперная характеристика фотоэффекта? Объясните ее особенности. "
   ]
  },
  {
   "cell_type": "markdown",
   "id": "33b7755b-c9e2-4267-9205-5fe8ff9bace1",
   "metadata": {},
   "source": [
    "Вольтамперная характеристика – это зависимость фототока от напряжения между электродами.\n",
    "Вольт-амперная характеристика имеет следующие особенности:\n",
    "1. При $U = 0$ фототок есть, но он мал. Некоторые из вырванных электронов имеют достаточную энергию и могут достигнуть анода без приложения напряжения. \n",
    "2. С увеличением напряжения сила тока возрастает полого, что означает, что электроны вылетают с поверхности металла с разными по величине скоростями. Следовательно, электроны выбиваются из металла из разных глубин, чем глубже они находились, тем больше энергии они потеряли.\n",
    "3. Сила фототока достигает насыщения, следовательно, все электроны, выбитые из катода в единицу времени, достигли анода. $I_{нас}=ne$, где n – число электронов вышедших из металла в единицу времени. \n",
    "4. Ток становится равным нулю при обратном напряжении $U_{з}$, т.е. даже электронам, которые обладали максимальной скоростью (максимальной кинетической энергией), не удается преодолеть задерживающее поле и достигнуть анода."
   ]
  },
  {
   "cell_type": "markdown",
   "id": "8f201d94-5ae6-480f-87cf-b53a51004c3a",
   "metadata": {},
   "source": [
    "#### 11. Что такое фотоэлемент? Каковы его основные характеристики"
   ]
  },
  {
   "cell_type": "markdown",
   "id": "4d768f98-46b0-42d0-b562-60f97f5ddb0f",
   "metadata": {},
   "source": [
    "Фотоэлемент - электронный прибор, который преобразует энергию фотонов в электрическую энергию.\n",
    "Основными характеристиками фотоэлемента являются вольтамперная, световая и спектральная:\n",
    "1. Вольтамперная характеристика фотоэлемента — зависимость силы тока в цепи фотоэлемента от напряжения между катодом и анодом. \n",
    "2. Световая характеристика фотоэлемента — зависимость фототока насыщения $I_{нас}$ от величины светового потока $\\Phi$ при неизменном его спектральном составе и постоянном напряжении $U$.\n",
    "3. Спектральная характеристика фотоэлемента — зависимость фототока насыщения $I_{нас}$ фотоэлемента от длины волны $\\lambda$ падающего света при неизменной величине потока $\\Phi$. "
   ]
  },
  {
   "cell_type": "markdown",
   "id": "57ca7736-38e9-48b1-989c-e8377b3729cd",
   "metadata": {
    "slideshow": {
     "slide_type": "fragment"
    },
    "tags": []
   },
   "source": [
    "## Предпроцессинг данных и подключение библиотек"
   ]
  },
  {
   "cell_type": "markdown",
   "id": "3548c0b3-d8cb-45dd-b5ca-88ed5715ab29",
   "metadata": {
    "tags": []
   },
   "source": [
    "Код подключает необходимые библиотеки и проводит обработку данных из таблиц с данными, полученными при эксперименте."
   ]
  },
  {
   "cell_type": "code",
   "execution_count": 532,
   "id": "242118e0-89d7-49f4-83ec-24eef12dfd6c",
   "metadata": {
    "tags": []
   },
   "outputs": [],
   "source": [
    "from csv import *\n",
    "import pandas as pd\n",
    "import matplotlib.pyplot as plt\n",
    "import numpy as np\n",
    "from scipy.interpolate import make_interp_spline\n",
    "\n",
    "\n",
    "def file_read(path):\n",
    "    with open(path, 'r') as file:\n",
    "        data = file.readlines()\n",
    "    data[0] = data[0][3:]\n",
    "    #print(data)\n",
    "    #data = data[1:]\n",
    "    for i in range(len(data)):\n",
    "        data[i] = data[i].replace(',','.')\n",
    "        data[i] = data[i].split(';')\n",
    "        for j in range(len(data[i])):\n",
    "            if(data[i][j] != '' and data[i][j]!='\\n'): \n",
    "                data[i][j] = float(data[i][j])\n",
    "            else:\n",
    "                data[i][j] = ''\n",
    "    #print(data)\n",
    "    return data"
   ]
  },
  {
   "cell_type": "markdown",
   "id": "5772f908-7056-4751-bdcb-e146aaf93021",
   "metadata": {
    "slideshow": {
     "slide_type": "fragment"
    },
    "tags": []
   },
   "source": [
    "## Построение ВАХ "
   ]
  },
  {
   "cell_type": "markdown",
   "id": "3d78d887-227c-46b6-8181-0ddacd803562",
   "metadata": {},
   "source": [
    "Считывание данных из файла:"
   ]
  },
  {
   "cell_type": "code",
   "execution_count": 535,
   "id": "35e3bd9e-79f8-4b92-a0e3-02f8efd62380",
   "metadata": {
    "tags": []
   },
   "outputs": [
    {
     "name": "stdout",
     "output_type": "stream",
     "text": [
      "[[-0.15, -0.14, -0.12, -0.11, -0.06, 0.0, 0.0, 1.01, 2.03, 3.02, 4.0, 5.03, 6.01, 7.03], [0.0, 0.01, 0.03, 0.05, 0.1, 0.2, 0.2, 2.54, 3.83, 4.35, 4.59, 4.68, 4.84, 4.86], [-0.28, -0.27, -0.26, -0.25, -0.23, -0.18, -0.11, 0.0, 0.0, 1.01, 2.03, 3.01, 4.0, 5.03, 6.01, 7.03], [0.0, 0.01, 0.02, 0.04, 0.08, 0.16, 0.31, 0.62, 0.62, 4.3, 7.02, 8.37, 9.16, 9.66, 10.0, 10.3], [-0.72, -0.71, -0.69, -0.67, -0.63, -0.57, -0.47, -0.28, 0.0, 0.0, 1.01, 2.03, 3.01, 4.0, 5.03, 6.01, 7.03, 8.02], [0.0, 0.01, 0.02, 0.04, 0.08, 0.15, 0.3, 0.6, 1.2, 1.2, 3.72, 6.06, 6.7, 7.5, 7.6, 7.88, 7.9, 8.01], [-0.63, -0.61, -0.6, -0.57, -0.53, -0.43, -0.26, 0.0, 0.0, 1.01, 2.03, 3.01, 4.0, 5.03, 6.0, 7.02, 8.01], [0.0, 0.01, 0.02, 0.04, 0.08, 0.16, 0.31, 0.62, 0.62, 2.06, 3.11, 3.45, 3.58, 3.63, 3.64, 3.65, 3.67]]\n"
     ]
    }
   ],
   "source": [
    "table = file_read(\"46.2_изм.csv\")\n",
    "table = np.array(table)\n",
    "table = table.transpose()\n",
    "table = table.tolist()\n",
    "for i in range(len(table)):\n",
    "    for j in range(len(table[i])):\n",
    "        if(table[i][j] != '' and table[i][j]!='\\n'):\n",
    "            table[i][j] = float(table[i][j])\n",
    "        else:\n",
    "            table[i][j] = ''\n",
    "    while('' in table[i]):\n",
    "        table[i].remove('')\n",
    "    table[i].sort()\n",
    "print(table)\n"
   ]
  },
  {
   "cell_type": "code",
   "execution_count": 536,
   "id": "cf64f838-6e5b-47c8-acda-74685a711b7b",
   "metadata": {
    "tags": []
   },
   "outputs": [
    {
     "data": {
      "image/png": "[encoded data removed]",
      "text/plain": [
       "<Figure size 640x480 with 2 Axes>"
      ]
     },
     "metadata": {},
     "output_type": "display_data"
    }
   ],
   "source": [
    "plt.figure()\n",
    "plt.subplot(211)\n",
    "plt.xlabel('U')\n",
    "plt.ylabel('I')\n",
    "plt.title (\"ВАХ\")\n",
    "plt.plot(table[0], table[1], 'y-', label='Жёлтый')\n",
    "plt.plot(table[2], table[3], 'g-', label='Зелёный')\n",
    "plt.plot(table[4], table[5], 'm-', label='Фиолетовый 1')\n",
    "plt.plot(table[6], table[7], 'm--', label='Фиолетовый 2')\n",
    "plt.axis((-1, 9, 0, 10.5))\n",
    "plt.axvline(x=0, color='k')\n",
    "plt.grid()\n",
    "plt.legend()\n",
    "plt.subplot(212)\n",
    "plt.xlabel('U')\n",
    "plt.ylabel('I')\n",
    "plt.title (\"ВАХ\")\n",
    "plt.plot(table[4], table[5], 'm-', label='Освещение 1')\n",
    "plt.plot(table[6], table[7], 'g-', label='Освещение 2')\n",
    "plt.axis((-1, 9, 0, 10.5))\n",
    "plt.axvline(x=0, color='k')\n",
    "plt.grid()\n",
    "plt.legend()\n",
    "plt.subplots_adjust(left=0.2, bottom=0.4, right=0.7, top=2, wspace=0.5, hspace=0.2)\n",
    "plt.show()"
   ]
  },
  {
   "cell_type": "markdown",
   "id": "ff9af87e-ec68-4b00-8e78-113a9da856ca",
   "metadata": {},
   "source": [
    "## Построение графика $U_з(\\frac{\\nu}{e})$ и определения постоянной Планка $h$"
   ]
  },
  {
   "cell_type": "markdown",
   "id": "5998f383-604d-4a1e-8846-3d2a271a68e1",
   "metadata": {},
   "source": [
    "Считываем данный из файла, считаем $(\\frac{\\nu}{e})$:"
   ]
  },
  {
   "cell_type": "code",
   "execution_count": 539,
   "id": "48cc7a68-f8bb-4438-8b3b-658936c62be1",
   "metadata": {
    "tags": []
   },
   "outputs": [
    {
     "name": "stdout",
     "output_type": "stream",
     "text": [
      "[578.0, 546.0, 435.0] длинны волн, нм\n",
      "[-3.243944636678201e+33, -3.4340659340659335e+33, -4.310344827586207e+33]\n"
     ]
    }
   ],
   "source": [
    "table1 = file_read(\"46.2_длсв.csv\")\n",
    "table1 = table1[0]\n",
    "print(table1, 'длинны волн, нм')\n",
    "c = 3*10**8\n",
    "for i in range(len(table1)):\n",
    "    table1[i] = c/(table1[i]*10**(-9))/(-1.6*10**(-19))\n",
    "print(table1)"
   ]
  },
  {
   "cell_type": "markdown",
   "id": "62c0454d-52aa-47a9-b9a6-942732eaa071",
   "metadata": {},
   "source": [
    "Делаем список из значений $U_з$:"
   ]
  },
  {
   "cell_type": "code",
   "execution_count": 541,
   "id": "43570bcf-e831-45d3-b43e-dc0b8d70331f",
   "metadata": {
    "tags": []
   },
   "outputs": [
    {
     "name": "stdout",
     "output_type": "stream",
     "text": [
      "[-0.15, -0.28, -0.72]\n"
     ]
    }
   ],
   "source": [
    "U_z = [min(table[0]), min(table[2]), min(table[4])]\n",
    "print(U)"
   ]
  },
  {
   "cell_type": "markdown",
   "id": "1f7b325f-656d-4255-9372-14c996005a8c",
   "metadata": {},
   "source": [
    "Строим график:"
   ]
  },
  {
   "cell_type": "code",
   "execution_count": 543,
   "id": "d82b4b04-9db7-406d-aaa8-36e1e8c7237f",
   "metadata": {
    "tags": []
   },
   "outputs": [
    {
     "data": {
      "image/png": "[encoded data removed]",
      "text/plain": [
       "<Figure size 640x480 with 1 Axes>"
      ]
     },
     "metadata": {},
     "output_type": "display_data"
    }
   ],
   "source": [
    "plt.figure()\n",
    "plt.plot(table1, U_z, 'ro-')\n",
    "plt.show()"
   ]
  },
  {
   "cell_type": "markdown",
   "id": "433fd37e-d717-403a-a813-061f94f6e6c7",
   "metadata": {},
   "source": [
    "Считаем постоянную Планка, как тангенс угла наклона прямой на графике выше:"
   ]
  },
  {
   "cell_type": "code",
   "execution_count": 545,
   "id": "b47309a5-c9c6-483b-845d-8a99abc42718",
   "metadata": {
    "tags": []
   },
   "outputs": [
    {
     "name": "stdout",
     "output_type": "stream",
     "text": [
      "Экспериментальное значение постоянной равно = 5.345085314685315e-34\n"
     ]
    }
   ],
   "source": [
    "h = (U_z[2]-U_z[0])/(table1[2]-table1[0])\n",
    "print(\"Экспериментальное значение постоянной равно =\",h)"
   ]
  },
  {
   "cell_type": "code",
   "execution_count": 546,
   "id": "05ea327e-8873-44a8-8e2a-a2656765920b",
   "metadata": {
    "tags": []
   },
   "outputs": [
    {
     "name": "stdout",
     "output_type": "stream",
     "text": [
      "Разница значений постоянных: 1.2749146853146842e-34\n",
      "В процентах: 19.258529989647798 %\n"
     ]
    }
   ],
   "source": [
    "print(\"Разница значений постоянных:\",6.62*10**(-34) - h)\n",
    "print(\"В процентах:\", (6.62*10**(-34) - h)/(6.62*10**(-34))*100, '%')"
   ]
  }
 ],
 "metadata": {
  "kernelspec": {
   "display_name": "Python 3 (ipykernel)",
   "language": "python",
   "name": "python3"
  },
  "language_info": {
   "codemirror_mode": {
    "name": "ipython",
    "version": 3
   },
   "file_extension": ".py",
   "mimetype": "text/x-python",
   "name": "python",
   "nbconvert_exporter": "python",
   "pygments_lexer": "ipython3",
   "version": "3.11.7"
  }
 },
 "nbformat": 4,
 "nbformat_minor": 5
}
